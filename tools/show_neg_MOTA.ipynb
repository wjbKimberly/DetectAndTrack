{
 "cells": [
  {
   "cell_type": "code",
   "execution_count": 2,
   "metadata": {},
   "outputs": [
    {
     "ename": "NameError",
     "evalue": "name 'basestring' is not defined",
     "output_type": "error",
     "traceback": [
      "\u001b[0;31m---------------------------------------------------------------------------\u001b[0m",
      "\u001b[0;31mNameError\u001b[0m                                 Traceback (most recent call last)",
      "\u001b[0;32m<ipython-input-2-dad16b22c107>\u001b[0m in \u001b[0;36m<module>\u001b[0;34m()\u001b[0m\n\u001b[1;32m     55\u001b[0m \u001b[0;34m\u001b[0m\u001b[0m\n\u001b[1;32m     56\u001b[0m \u001b[0mcfg_file\u001b[0m\u001b[0;34m=\u001b[0m\u001b[0;34m\"/home/data/DetectAndTrack-wjb/configs/video/2d_best/01_R101_best_hungarian-4GPU-small-optical.yaml\"\u001b[0m\u001b[0;34m\u001b[0m\u001b[0m\n\u001b[0;32m---> 57\u001b[0;31m \u001b[0mcfg_from_file\u001b[0m\u001b[0;34m(\u001b[0m\u001b[0mcfg_file\u001b[0m\u001b[0;34m)\u001b[0m\u001b[0;34m\u001b[0m\u001b[0m\n\u001b[0m\u001b[1;32m     58\u001b[0m \u001b[0mmain\u001b[0m\u001b[0;34m(\u001b[0m\u001b[0;34m)\u001b[0m\u001b[0;34m\u001b[0m\u001b[0m\n",
      "\u001b[0;32m/home/data/DetectAndTrack-wjb/tools/../lib/core/config.py\u001b[0m in \u001b[0;36mcfg_from_file\u001b[0;34m(filename)\u001b[0m\n\u001b[1;32m    874\u001b[0m         \u001b[0myaml_cfg\u001b[0m \u001b[0;34m=\u001b[0m \u001b[0mAttrDict\u001b[0m\u001b[0;34m(\u001b[0m\u001b[0myaml_cfg\u001b[0m\u001b[0;34m)\u001b[0m\u001b[0;34m\u001b[0m\u001b[0m\n\u001b[1;32m    875\u001b[0m \u001b[0;34m\u001b[0m\u001b[0m\n\u001b[0;32m--> 876\u001b[0;31m     \u001b[0m_merge_a_into_b\u001b[0m\u001b[0;34m(\u001b[0m\u001b[0myaml_cfg\u001b[0m\u001b[0;34m,\u001b[0m \u001b[0m__C\u001b[0m\u001b[0;34m)\u001b[0m\u001b[0;34m\u001b[0m\u001b[0m\n\u001b[0m\u001b[1;32m    877\u001b[0m \u001b[0;34m\u001b[0m\u001b[0m\n\u001b[1;32m    878\u001b[0m \u001b[0;34m\u001b[0m\u001b[0m\n",
      "\u001b[0;32m/home/data/DetectAndTrack-wjb/tools/../lib/core/config.py\u001b[0m in \u001b[0;36m_merge_a_into_b\u001b[0;34m(a, b)\u001b[0m\n\u001b[1;32m    807\u001b[0m         \u001b[0;32mif\u001b[0m \u001b[0mtype\u001b[0m\u001b[0;34m(\u001b[0m\u001b[0mv\u001b[0m\u001b[0;34m)\u001b[0m \u001b[0;32mis\u001b[0m \u001b[0mdict\u001b[0m\u001b[0;34m:\u001b[0m\u001b[0;34m\u001b[0m\u001b[0m\n\u001b[1;32m    808\u001b[0m             \u001b[0ma\u001b[0m\u001b[0;34m[\u001b[0m\u001b[0mk\u001b[0m\u001b[0;34m]\u001b[0m \u001b[0;34m=\u001b[0m \u001b[0mv\u001b[0m \u001b[0;34m=\u001b[0m \u001b[0mAttrDict\u001b[0m\u001b[0;34m(\u001b[0m\u001b[0mv\u001b[0m\u001b[0;34m)\u001b[0m\u001b[0;34m\u001b[0m\u001b[0m\n\u001b[0;32m--> 809\u001b[0;31m         \u001b[0;32mif\u001b[0m \u001b[0misinstance\u001b[0m\u001b[0;34m(\u001b[0m\u001b[0mv\u001b[0m\u001b[0;34m,\u001b[0m \u001b[0mbasestring\u001b[0m\u001b[0;34m)\u001b[0m\u001b[0;34m:\u001b[0m  \u001b[0;31m# NoQA\u001b[0m\u001b[0;34m\u001b[0m\u001b[0m\n\u001b[0m\u001b[1;32m    810\u001b[0m             \u001b[0;32mtry\u001b[0m\u001b[0;34m:\u001b[0m\u001b[0;34m\u001b[0m\u001b[0m\n\u001b[1;32m    811\u001b[0m                 \u001b[0mv\u001b[0m \u001b[0;34m=\u001b[0m \u001b[0mliteral_eval\u001b[0m\u001b[0;34m(\u001b[0m\u001b[0mv\u001b[0m\u001b[0;34m)\u001b[0m\u001b[0;34m\u001b[0m\u001b[0m\n",
      "\u001b[0;31mNameError\u001b[0m: name 'basestring' is not defined"
     ]
    }
   ],
   "source": [
    "import sys\n",
    "import os.path as osp\n",
    "import os\n",
    "sys.path.insert(0, osp.join(os.getcwd(), '../lib'))\n",
    "from core.config import cfg, cfg_from_list, assert_and_infer_cfg, get_output_dir,cfg_from_file\n",
    "\n",
    "def run_mpii_eval(test_output_dir, roidb, dataset):\n",
    "    # Set include_gt True when using the roidb to evalute directly. Not doing\n",
    "    # that currently\n",
    "    # det_file = osp.join(test_output_dir, 'detections.pkl')\n",
    "    tracking_det_file = osp.join(test_output_dir, 'detections_withTracks.pkl')\n",
    "    ran_once = False\n",
    "    # all_det_files = [tracking_det_file, det_file]\n",
    "    all_det_files = [tracking_det_file]\n",
    "    for file_path in all_det_files:\n",
    "        print(file_path)\n",
    "        json_out_dir = osp.join(\n",
    "            test_output_dir, osp.basename(file_path) + '_json/')\n",
    "        if not osp.exists(file_path):\n",
    "            continue\n",
    "        ran_once = True\n",
    "        logger.info('Evaluating {}'.format(file_path))\n",
    "        _run_posetrack_eval(roidb, file_path, dataset, json_out_dir)\n",
    "    if not ran_once:\n",
    "        logger.warning('No detection files found from {}'.format(all_det_files))\n",
    "\n",
    "def test_net_on_dataset(multi_gpu=False):\n",
    "    output_dir = get_output_dir(training=False)\n",
    "    dataset = JsonDataset(cfg.TEST.DATASET)\n",
    "    roidb, dataset, _, _, _ = get_roidb_and_dataset(None)\n",
    "    run_mpii_eval(test_output_dir, json_data, dataset)\n",
    "        \n",
    "def main():\n",
    "    if cfg.MODEL.RPN_ONLY:\n",
    "        if len(cfg.TEST.DATASETS) == 0:\n",
    "                cfg.TEST.DATASETS = (cfg.TEST.DATASET, )\n",
    "        for i in range(len(cfg.TEST.DATASETS)):\n",
    "            cfg.TEST.DATASET = cfg.TEST.DATASETS[i]\n",
    "            generate_rpn_on_dataset(multi_gpu=multi_gpu_testing)\n",
    "    else:\n",
    "       # Parent (see comment above)\n",
    "        if len(cfg.TEST.DATASETS) == 0:\n",
    "            cfg.TEST.DATASETS = (cfg.TEST.DATASET, )\n",
    "            cfg.TEST.PROPOSAL_FILES = (cfg.TEST.PROPOSAL_FILE, )\n",
    "\n",
    "        for i in range(len(cfg.TEST.DATASETS)):\n",
    "            cfg.TEST.DATASET = cfg.TEST.DATASETS[i]\n",
    "            cfg.TEST.PROPOSAL_FILE = cfg.TEST.PROPOSAL_FILES[i]\n",
    "            test_net_on_dataset()\n",
    "\n",
    "                \n",
    "cfg_file=\"/home/data/DetectAndTrack-wjb/configs/video/2d_best/01_R101_best_hungarian-4GPU-small-optical.yaml\"\n",
    "cfg_from_file(cfg_file)\n",
    "main()"
   ]
  },
  {
   "cell_type": "code",
   "execution_count": null,
   "metadata": {},
   "outputs": [],
   "source": []
  }
 ],
 "metadata": {
  "kernelspec": {
   "display_name": "Python 3",
   "language": "python",
   "name": "python3"
  },
  "language_info": {
   "codemirror_mode": {
    "name": "ipython",
    "version": 3
   },
   "file_extension": ".py",
   "mimetype": "text/x-python",
   "name": "python",
   "nbconvert_exporter": "python",
   "pygments_lexer": "ipython3",
   "version": "3.5.2"
  }
 },
 "nbformat": 4,
 "nbformat_minor": 2
}
