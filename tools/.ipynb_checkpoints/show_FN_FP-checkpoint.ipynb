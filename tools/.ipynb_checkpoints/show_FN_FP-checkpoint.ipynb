{
 "cells": [
  {
   "cell_type": "code",
   "execution_count": 1,
   "metadata": {},
   "outputs": [
    {
     "name": "stdout",
     "output_type": "stream",
     "text": [
      "00342_mpii Finished!\n",
      "01735_mpii Finished!\n",
      "01744_mpii Finished!\n",
      "05067_mpii Finished!\n",
      "07684_mpii Finished!\n",
      "08760_mpii Finished!\n"
     ]
    },
    {
     "name": "stderr",
     "output_type": "stream",
     "text": [
      "/usr/local/lib/python3.5/dist-packages/matplotlib/pyplot.py:537: RuntimeWarning: More than 20 figures have been opened. Figures created through the pyplot interface (`matplotlib.pyplot.figure`) are retained until explicitly closed and may consume too much memory. (To control this warning, see the rcParam `figure.max_open_warning`).\n",
      "  max_open_warning, RuntimeWarning)\n"
     ]
    },
    {
     "name": "stdout",
     "output_type": "stream",
     "text": [
      "00522_mpii Finished!\n"
     ]
    }
   ],
   "source": [
    "import matplotlib\n",
    "matplotlib.use('Agg')\n",
    "\n",
    "import matplotlib.patches as patches\n",
    "import matplotlib.pyplot as plt\n",
    "import cv2\n",
    "import numpy as np\n",
    "import json\n",
    "import os\n",
    "import re\n",
    "from PIL import Image\n",
    "#baseline\n",
    "root_path=[\"01_R101_best_hungarian-4GPU-small.yaml_nms=0.500000_score=_0.050000_drop_low_conf=0.950000/\",\n",
    "           \"01_R101_best_hungarian-4GPU-small.yaml_nms=0.500000_score=_0.050000_drop_low_conf=0.950000_pr_sub_one/\",\n",
    "          ]\n",
    "\n",
    "save_path=\"FP_FN_IDSW_compare_result/\"\n",
    "\n",
    "style=['ro','b--','g:',\"cyan\",\"magenta\",\"yellow\",\"black\",\"white\",'burlywood',\"blue\",\"green\",\"red\"]\n",
    "\n",
    "\n",
    "mota_root_path=\"show_results/\"+root_path[0]+\"mid_mota/\"\n",
    "mota_file_list=os.listdir(mota_root_path) \n",
    "mota_file_list=[pi for pi in mota_file_list if \".jpg\" in pi]\n",
    "mota_file_list=sorted(mota_file_list)\n",
    "\n",
    "FP_y_i=[[] for ri in range(len(root_path)) ]\n",
    "FN_y_i=[[] for ri in range(len(root_path)) ]\n",
    "IDSW_y_i=[[] for ri in range(len(root_path)) ]\n",
    "x=[]\n",
    "\n",
    "for m_idx,mota_path_i in enumerate(mota_file_list):\n",
    "    vi_name=mota_path_i[-28:-18]\n",
    "    if m_idx!=0:\n",
    "        vi_pre_name=mota_file_list[m_idx-1][-28:-18]\n",
    "    else:\n",
    "        vi_pre_name=mota_file_list[0][-28:-18]\n",
    "    if vi_name!=vi_pre_name or m_idx==len(mota_file_list)-1:\n",
    "        if m_idx==len(mota_file_list)-1:\n",
    "            for e_index,experi_i in enumerate(root_path):\n",
    "                mota_root_path=\"show_results/\"+experi_i+\"mid_mota/\"\n",
    "                mid_mota_dic=json.load(open(mota_root_path+mota_path_i))\n",
    "                FP_y_i[e_index].append(mid_mota_dic[\"FP\"][-1])\n",
    "                FN_y_i[e_index].append(mid_mota_dic[\"FN\"][-1])\n",
    "                IDSW_y_i[e_index].append(mid_mota_dic[\"IDSW\"][-1])\n",
    "            x.append(m_idx)\n",
    "        plt.figure(figsize=(20, 10))\n",
    "        plt.xticks(np.arange(min(x), max(x), 1.0))\n",
    "        for e_index,experi_i in enumerate(root_path):\n",
    "            linei_FP=plt.plot(x,FP_y_i[e_index],style[e_index],label=root_path[e_index])\n",
    "        plt.legend()\n",
    "#         plt.show()\n",
    "        plt.savefig(save_path+vi_pre_name+\"_FP.png\")\n",
    "        \n",
    "        plt.figure(figsize=(20, 10))\n",
    "        plt.xticks(np.arange(min(x), max(x)+1, 1.0))\n",
    "        for e_index,experi_i in enumerate(root_path):\n",
    "            linei_FN=plt.plot(x,FN_y_i[e_index],style[e_index],label=root_path[e_index])\n",
    "        plt.legend()\n",
    "#         plt.show()\n",
    "        plt.savefig(save_path+vi_pre_name+\"_FN.png\")\n",
    "        \n",
    "        plt.figure(figsize=(20, 10))\n",
    "        plt.xticks(np.arange(min(x), max(x), 1.0))\n",
    "        for e_index,experi_i in enumerate(root_path):\n",
    "            linei_IDSW=plt.plot(x,IDSW_y_i[e_index],style[e_index],label=root_path[e_index])\n",
    "        plt.legend()\n",
    "#         plt.show()\n",
    "        plt.savefig(save_path+vi_pre_name+\"_IDSW.png\")\n",
    "        \n",
    "        print(vi_pre_name,\"Finished!\")\n",
    "        FP_y_i=[[] for ri in range(len(root_path)) ]\n",
    "        FN_y_i=[[] for ri in range(len(root_path)) ]\n",
    "        IDSW_y_i=[[] for ri in range(len(root_path)) ]\n",
    "        x=[]\n",
    "    for e_index,experi_i in enumerate(root_path):\n",
    "        mota_root_path=\"show_results/\"+experi_i+\"mid_mota/\"\n",
    "        mid_mota_dic=json.load(open(mota_root_path+mota_path_i))\n",
    "        FP_y_i[e_index].append(mid_mota_dic[\"FP\"][-1])\n",
    "        FN_y_i[e_index].append(mid_mota_dic[\"FN\"][-1])\n",
    "        IDSW_y_i[e_index].append(mid_mota_dic[\"IDSW\"][-1])\n",
    "    x.append(m_idx)\n",
    "    \n",
    "\n",
    "\n",
    "# plt.figure(figsize=(80, 20))\n",
    "# line_FP_sub=plt.plot(x,IDSW_y[1]-IDSW_y[0],color=style[e_index],label=root_path[e_index])\n",
    "# plt.xticks(np.arange(min(x), max(x), 1.0))\n",
    "# plt.legend()\n",
    "# plt.show()\n"
   ]
  },
  {
   "cell_type": "code",
   "execution_count": null,
   "metadata": {},
   "outputs": [],
   "source": []
  }
 ],
 "metadata": {
  "kernelspec": {
   "display_name": "Python 3",
   "language": "python",
   "name": "python3"
  },
  "language_info": {
   "codemirror_mode": {
    "name": "ipython",
    "version": 3
   },
   "file_extension": ".py",
   "mimetype": "text/x-python",
   "name": "python",
   "nbconvert_exporter": "python",
   "pygments_lexer": "ipython3",
   "version": "3.5.2"
  }
 },
 "nbformat": 4,
 "nbformat_minor": 2
}
