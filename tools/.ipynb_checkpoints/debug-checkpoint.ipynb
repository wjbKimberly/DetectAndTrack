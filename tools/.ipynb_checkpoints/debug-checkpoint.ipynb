{
 "cells": [
  {
   "cell_type": "code",
   "execution_count": 7,
   "metadata": {},
   "outputs": [
    {
     "name": "stdout",
     "output_type": "stream",
     "text": [
      "[{'id': 1, 'height': 720, 'width': 1280, 'is_labeled': True, 'frame_id': 1, 'original_file_name': 'images/bonn_5sec/015860_mpii/00000001.jpg', 'nframes': 149, 'file_name': 'bonn_5sec/015860_mpii/00000001.jpg'}, {'id': 2, 'height': 720, 'width': 1280, 'is_labeled': False, 'frame_id': 2, 'original_file_name': 'images/bonn_5sec/015860_mpii/00000002.jpg', 'nframes': 149, 'file_name': 'bonn_5sec/015860_mpii/00000002.jpg'}, {'id': 3, 'height': 720, 'width': 1280, 'is_labeled': False, 'frame_id': 3, 'original_file_name': 'images/bonn_5sec/015860_mpii/00000003.jpg', 'nframes': 149, 'file_name': 'bonn_5sec/015860_mpii/00000003.jpg'}, {'id': 4, 'height': 720, 'width': 1280, 'is_labeled': False, 'frame_id': 4, 'original_file_name': 'images/bonn_5sec/015860_mpii/00000004.jpg', 'nframes': 149, 'file_name': 'bonn_5sec/015860_mpii/00000004.jpg'}, {'id': 5, 'height': 720, 'width': 1280, 'is_labeled': True, 'frame_id': 5, 'original_file_name': 'images/bonn_5sec/015860_mpii/00000005.jpg', 'nframes': 149, 'file_name': 'bonn_5sec/015860_mpii/00000005.jpg'}, {'id': 6, 'height': 720, 'width': 1280, 'is_labeled': False, 'frame_id': 6, 'original_file_name': 'images/bonn_5sec/015860_mpii/00000006.jpg', 'nframes': 149, 'file_name': 'bonn_5sec/015860_mpii/00000006.jpg'}, {'id': 7, 'height': 720, 'width': 1280, 'is_labeled': False, 'frame_id': 7, 'original_file_name': 'images/bonn_5sec/015860_mpii/00000007.jpg', 'nframes': 149, 'file_name': 'bonn_5sec/015860_mpii/00000007.jpg'}, {'id': 8, 'height': 720, 'width': 1280, 'is_labeled': False, 'frame_id': 8, 'original_file_name': 'images/bonn_5sec/015860_mpii/00000008.jpg', 'nframes': 149, 'file_name': 'bonn_5sec/015860_mpii/00000008.jpg'}, {'id': 9, 'height': 720, 'width': 1280, 'is_labeled': True, 'frame_id': 9, 'original_file_name': 'images/bonn_5sec/015860_mpii/00000009.jpg', 'nframes': 149, 'file_name': 'bonn_5sec/015860_mpii/00000009.jpg'}, {'id': 10, 'height': 720, 'width': 1280, 'is_labeled': False, 'frame_id': 10, 'original_file_name': 'images/bonn_5sec/015860_mpii/00000010.jpg', 'nframes': 149, 'file_name': 'bonn_5sec/015860_mpii/00000010.jpg'}]\n"
     ]
    }
   ],
   "source": [
    "import json\n",
    "\n",
    "f=open(\"../lib/datasets/lists/PoseTrack/v1.0/posetrack_val.json\",\"r\")\n",
    "dic=json.loads(f.read())\n",
    "\n",
    "print(dic['images'][:10])"
   ]
  },
  {
   "cell_type": "code",
   "execution_count": 10,
   "metadata": {},
   "outputs": [
    {
     "name": "stdout",
     "output_type": "stream",
     "text": [
      "bonn_5sec/015860_mpii/\n"
     ]
    }
   ],
   "source": [
    "print(dic[\"images\"][0][\"file_name\"][:-12])"
   ]
  },
  {
   "cell_type": "code",
   "execution_count": 3,
   "metadata": {},
   "outputs": [
    {
     "name": "stdout",
     "output_type": "stream",
     "text": [
      "17\n"
     ]
    }
   ],
   "source": [
    "print(len([1163.6406    , 1177.6237    , 1171.6309    , 1193.6041    ,\n",
    "        1152.654     , 1229.5603    , 1127.6844    , 1246.5396    ,\n",
    "        1108.7076    , 1259.5238    , 1096.7222    , 1217.5748    ,\n",
    "        1143.665     , 1257.5261    , 1110.7052    , 1274.5055    ,\n",
    "        1095.7234    ]))"
   ]
  },
  {
   "cell_type": "code",
   "execution_count": 4,
   "metadata": {},
   "outputs": [],
   "source": [
    "import numpy as np\n",
    "array=np.asarray([[421.74918   , 417.76352   , 421.74918   , 431.71335   ,\n",
    "        407.79935   , 442.67395   , 388.86743   , 445.66318   ,\n",
    "        364.95343   , 457.62018   , 365.94983   , 415.7707    ,\n",
    "        380.8961    , 416.7671    , 361.96417   , 397.83517   ,\n",
    "        310.15048   ],\n",
    "       [336.91174   , 359.85703   , 320.9498    , 339.9046    ,\n",
    "        333.91888   , 380.80707   , 371.82846   , 435.6762    ,\n",
    "        422.70715   , 483.56204   , 447.64767   , 470.59296   ,\n",
    "        466.60248   , 530.4502    , 536.4359    , 598.28845   ,\n",
    "        526.4597    ],\n",
    "       [ 11.2089205 ,  12.047041  ,   9.988202  ,   8.126896  ,\n",
    "         12.063157  ,   5.9371266 ,   7.615011  ,   5.286614  ,\n",
    "          5.8725324 ,   5.8890834 ,   7.0978956 ,   5.485666  ,\n",
    "          3.514296  ,   3.1761117 ,   3.4209828 ,   4.630197  ,\n",
    "          2.045327  ],\n",
    "       [  0.03764714,   0.04012923,   0.02225947,   0.02917847,\n",
    "          0.02939962,   0.01868254,   0.01908131,   0.02446137,\n",
    "          0.0148254 ,   0.01913127,   0.0113323 ,   0.01122672,\n",
    "          0.00835427,   0.00901907,   0.0187873 ,   0.0153054 ,\n",
    "          0.01429355]])"
   ]
  },
  {
   "cell_type": "code",
   "execution_count": 12,
   "metadata": {},
   "outputs": [
    {
     "name": "stdout",
     "output_type": "stream",
     "text": [
      "[[4.21749180e+02 4.17763520e+02 4.21749180e+02 4.31713350e+02\n",
      "  4.07799350e+02 4.42673950e+02 3.88867430e+02 4.45663180e+02\n",
      "  3.64953430e+02 4.57620180e+02 3.65949830e+02 4.15770700e+02\n",
      "  3.80896100e+02 4.16767100e+02 3.61964170e+02 3.97835170e+02\n",
      "  3.10150480e+02]\n",
      " [3.36911740e+02 3.59857030e+02 3.20949800e+02 3.39904600e+02\n",
      "  3.33918880e+02 3.80807070e+02 3.71828460e+02 4.35676200e+02\n",
      "  4.22707150e+02 4.83562040e+02 4.47647670e+02 4.70592960e+02\n",
      "  4.66602480e+02 5.30450200e+02 5.36435900e+02 5.98288450e+02\n",
      "  5.26459700e+02]\n",
      " [1.12089205e+01 1.20470410e+01 9.98820200e+00 8.12689600e+00\n",
      "  1.20631570e+01 5.93712660e+00 7.61501100e+00 5.28661400e+00\n",
      "  5.87253240e+00 5.88908340e+00 7.09789560e+00 5.48566600e+00\n",
      "  3.51429600e+00 3.17611170e+00 3.42098280e+00 4.63019700e+00\n",
      "  2.04532700e+00]\n",
      " [3.76471400e-02 4.01292300e-02 2.22594700e-02 2.91784700e-02\n",
      "  2.93996200e-02 1.86825400e-02 1.90813100e-02 2.44613700e-02\n",
      "  1.48254000e-02 1.91312700e-02 1.13323000e-02 1.12267200e-02\n",
      "  8.35427000e-03 9.01907000e-03 1.87873000e-02 1.53054000e-02\n",
      "  1.42935500e-02]]\n",
      "(17, 4)\n",
      "[[4.2174918e+02 3.3691174e+02 3.7647140e-02]\n",
      " [4.1776352e+02 3.5985703e+02 4.0129230e-02]\n",
      " [4.2174918e+02 3.2094980e+02 2.2259470e-02]\n",
      " [4.3171335e+02 3.3990460e+02 2.9178470e-02]\n",
      " [4.0779935e+02 3.3391888e+02 2.9399620e-02]\n",
      " [4.4267395e+02 3.8080707e+02 1.8682540e-02]\n",
      " [3.8886743e+02 3.7182846e+02 1.9081310e-02]\n",
      " [4.4566318e+02 4.3567620e+02 2.4461370e-02]\n",
      " [3.6495343e+02 4.2270715e+02 1.4825400e-02]\n",
      " [4.5762018e+02 4.8356204e+02 1.9131270e-02]\n",
      " [3.6594983e+02 4.4764767e+02 1.1332300e-02]\n",
      " [4.1577070e+02 4.7059296e+02 1.1226720e-02]\n",
      " [3.8089610e+02 4.6660248e+02 8.3542700e-03]\n",
      " [4.1676710e+02 5.3045020e+02 9.0190700e-03]\n",
      " [3.6196417e+02 5.3643590e+02 1.8787300e-02]\n",
      " [3.9783517e+02 5.9828845e+02 1.5305400e-02]\n",
      " [3.1015048e+02 5.2645970e+02 1.4293550e-02]]\n"
     ]
    }
   ],
   "source": [
    "def compute_boxes_from_pose(poses):\n",
    "    \"\"\"\n",
    "    Args:\n",
    "        poses (list of list of list of floats):\n",
    "            list of poses in each frame, each list contains list of poses in\n",
    "            that frame, where each pose is a 17*3 element list (COCO style).\n",
    "    Returns:\n",
    "        boxes: (list of list of list of floats):\n",
    "            list of boxes in each frame, each list contains a list of boxes in\n",
    "            that frame, where each pose is [x, y, w, h] list.\n",
    "    Added by rgirdhar\n",
    "    \"\"\"\n",
    "    boxes = []\n",
    "    for frame_poses in poses:\n",
    "        if len(frame_poses) == 0:\n",
    "            boxes.append([])\n",
    "            continue\n",
    "        frame_boxes = []\n",
    "        frame_poses_np = np.array(frame_poses)\n",
    "        frame_poses_np = frame_poses_np.reshape((-1, 17, 3))\n",
    "        # only consider the points that are marked \"2\", i.e. labeled and visible\n",
    "        valid_pts = frame_poses_np[:, :, 2] == 2\n",
    "        for pose_id in range(frame_poses_np.shape[0]):\n",
    "            valid_pose = frame_poses_np[pose_id, valid_pts[pose_id], :]\n",
    "            # TODO(rgirdhar): Need to figure what to do here... Maybe just\n",
    "            # use the head box heuristic or something to proxy the box..\n",
    "            # For now just letting it get a random box\n",
    "            if valid_pose.shape[0] == 0:\n",
    "                frame_boxes.append([0, 0, 0, 0])\n",
    "                continue\n",
    "            # gen a xmin, ymin, xmax, ymax\n",
    "            box = np.array([\n",
    "                np.min(valid_pose[:, 0]),\n",
    "                np.min(valid_pose[:, 1]),\n",
    "                # The +1 ensures the box is at least 1x1 in size. Such\n",
    "                # small boxes will be later removed anyway I think\n",
    "                np.max(valid_pose[:, 0]) + 1,\n",
    "                np.max(valid_pose[:, 1]) + 1,\n",
    "            ])\n",
    "            # Expand by 20%\n",
    "            box = expand_boxes(np.expand_dims(box, 0), 1.2)[0]\n",
    "            # conver to x,y,w,h; same as COCO json format (which is what it is\n",
    "            # in, at this point)\n",
    "            frame_boxes.append([\n",
    "                box[0], box[1], box[2] - box[0], box[3] - box[1]])\n",
    "        boxes.append(frame_boxes)\n",
    "    return boxes\n",
    "\n",
    "print(array)\n",
    "print(array.transpose([1,0]).shape)\n",
    "array_process=array.transpose([1,0])[:,[0,1,3]]\n",
    "print(array_process)"
   ]
  },
  {
   "cell_type": "code",
   "execution_count": null,
   "metadata": {},
   "outputs": [],
   "source": [
    "def compute_boxes_from_pose(poses):\n",
    "    \"\"\"\n",
    "    Args:\n",
    "        poses (list of list of list of floats):\n",
    "            list of poses in each frame, each list contains list of poses in\n",
    "            that frame, where each pose is a 17*3 element list (COCO style).\n",
    "    Returns:\n",
    "        boxes: (list of list of list of floats):\n",
    "            list of boxes in each frame, each list contains a list of boxes in\n",
    "            that frame, where each pose is [x, y, w, h] list.\n",
    "    Added by rgirdhar\n",
    "    \"\"\"\n",
    "    boxes = []\n",
    "    for frame_poses in poses:\n",
    "        if len(frame_poses) == 0:\n",
    "            boxes.append([])\n",
    "            continue\n",
    "        frame_boxes = []\n",
    "        frame_poses_np = np.array(frame_poses)\n",
    "        frame_poses_np = frame_poses_np.reshape((-1, 17, 3))\n",
    "        # only consider the points that are marked \"2\", i.e. labeled and visible\n",
    "        valid_pts = frame_poses_np[:, :, 2] == 2\n",
    "        for pose_id in range(frame_poses_np.shape[0]):\n",
    "            valid_pose = frame_poses_np[pose_id, valid_pts[pose_id], :]\n",
    "            # TODO(rgirdhar): Need to figure what to do here... Maybe just\n",
    "            # use the head box heuristic or something to proxy the box..\n",
    "            # For now just letting it get a random box\n",
    "            if valid_pose.shape[0] == 0:\n",
    "                frame_boxes.append([0, 0, 0, 0])\n",
    "                continue\n",
    "            # gen a xmin, ymin, xmax, ymax\n",
    "            box = np.array([\n",
    "                np.min(valid_pose[:, 0]),\n",
    "                np.min(valid_pose[:, 1]),\n",
    "                # The +1 ensures the box is at least 1x1 in size. Such\n",
    "                # small boxes will be later removed anyway I think\n",
    "                np.max(valid_pose[:, 0]) + 1,\n",
    "                np.max(valid_pose[:, 1]) + 1,\n",
    "            ])\n",
    "            # Expand by 20%\n",
    "            box = expand_boxes(np.expand_dims(box, 0), 1.2)[0]\n",
    "            # conver to x,y,w,h; same as COCO json format (which is what it is\n",
    "            # in, at this point)\n",
    "            frame_boxes.append([\n",
    "                box[0], box[1], box[2] - box[0], box[3] - box[1]])\n",
    "        boxes.append(frame_boxes)\n",
    "    return boxes"
   ]
  },
  {
   "cell_type": "code",
   "execution_count": 41,
   "metadata": {},
   "outputs": [
    {
     "name": "stdout",
     "output_type": "stream",
     "text": [
      "[5] [5]\n"
     ]
    }
   ],
   "source": [
    "a=[]\n",
    "b=a.append(5)\n",
    "b=a\n",
    "print(a,b)"
   ]
  },
  {
   "cell_type": "code",
   "execution_count": 5,
   "metadata": {},
   "outputs": [
    {
     "name": "stdout",
     "output_type": "stream",
     "text": [
      "[[-39.]\n",
      " [-18.]]\n",
      "42.95346318982906\n",
      "0.8624567467751963\n"
     ]
    }
   ],
   "source": [
    "import numpy as np\n",
    "ppGT={\n",
    "    \"id\": [6],\n",
    "    \"x\": [858.5],\n",
    "    \"y\": [395.5],\n",
    "    \"is_visible\": [1]\n",
    "}\n",
    "ppPr={\n",
    "    \"id\": [7],\n",
    "    \"x\": [897.5],\n",
    "    \"y\": [413.5],\n",
    "    \"is_visible\": [1]\n",
    "}\n",
    "rectGT={\n",
    "\t\t\t\t\t\"x1\": [937],\n",
    "\t\t\t\t\t\"y1\": [271],\n",
    "\t\t\t\t\t\"x2\": [980],\n",
    "\t\t\t\t\t\"y2\": [342]\n",
    "}\n",
    "\n",
    "def getHeadSize(x1,y1,x2,y2):\n",
    "    headSize = 0.6*np.linalg.norm(np.subtract([x2,y2],[x1,y1]));\n",
    "    return headSize\n",
    "headSize = getHeadSize(rectGT[\"x1\"][0], rectGT[\"y1\"][0],\n",
    "                       rectGT[\"x2\"][0], rectGT[\"y2\"][0])\n",
    "pointGT = [ppGT[\"x\"], ppGT[\"y\"]]\n",
    "pointPr = [ppPr[\"x\"], ppPr[\"y\"]]\n",
    "dist = np.linalg.norm(np.subtract(pointGT, pointPr)) / headSize\n",
    "\n",
    "print(np.subtract(pointGT, pointPr))\n",
    "print( np.linalg.norm(np.subtract(pointGT, pointPr)))\n",
    "print(dist)"
   ]
  },
  {
   "cell_type": "code",
   "execution_count": 6,
   "metadata": {},
   "outputs": [
    {
     "name": "stdout",
     "output_type": "stream",
     "text": [
      "42.95346318982906\n"
     ]
    }
   ],
   "source": []
  }
 ],
 "metadata": {
  "kernelspec": {
   "display_name": "Python 3",
   "language": "python",
   "name": "python3"
  },
  "language_info": {
   "codemirror_mode": {
    "name": "ipython",
    "version": 3
   },
   "file_extension": ".py",
   "mimetype": "text/x-python",
   "name": "python",
   "nbconvert_exporter": "python",
   "pygments_lexer": "ipython3",
   "version": "3.5.2"
  }
 },
 "nbformat": 4,
 "nbformat_minor": 2
}
